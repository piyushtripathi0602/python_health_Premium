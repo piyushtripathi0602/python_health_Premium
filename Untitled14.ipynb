{
 "cells": [
  {
   "cell_type": "code",
   "execution_count": 9,
   "id": "7e878bb1-5978-4786-bf09-9357b4736e77",
   "metadata": {},
   "outputs": [],
   "source": [
    "def health_premium(dateOfBirth, gender, smoker):\n",
    "    if 1990 < dateOfBirth <= 2000 : \n",
    "        if gender == 'male':\n",
    "            if smoker == 'yes':\n",
    "                print(\"Your annual premium is Rs 35000\")\n",
    "            elif smoker == 'no' :\n",
    "                print(\"Your annual premium is Rs\" , .90*35000)\n",
    "        elif gender == 'female':\n",
    "            if smoker == 'yes':\n",
    "                print(\"Your annual premium is Rs 30000\")\n",
    "            elif smoker == 'no':\n",
    "                print(\"Your annual premium is Rs\", .90* 30000)\n",
    "                \n",
    "    elif 1970 < dateOfBirth <= 1990:\n",
    "        if gender == 'male':\n",
    "            if smoker == 'yes':\n",
    "                print(\"Your annual premium is Rs 40000\")\n",
    "            elif smoker == 'no' :\n",
    "                print(\"Your annual premium is Rs\" , .95*40000)\n",
    "        elif gender == 'female':\n",
    "            if smoker == 'yes':\n",
    "                print(\"Your annual premium is Rs 35000\")\n",
    "            elif smoker == 'no':\n",
    "                print(\"Your annual premium is Rs\", .95* 35000)\n",
    "    else:\n",
    "        print(\"not Eligible for Health Premium\")\n",
    "                \n",
    "                \n",
    "                \n",
    "                \n",
    "                \n",
    "            \n",
    "                \n",
    "           \n",
    "            \n",
    "                \n",
    "    "
   ]
  },
  {
   "cell_type": "code",
   "execution_count": 10,
   "id": "34bcc142-c833-4d8e-9de7-4e7679e52c97",
   "metadata": {},
   "outputs": [
    {
     "name": "stdout",
     "output_type": "stream",
     "text": [
      "Your annual premium is Rs 31500.0\n"
     ]
    }
   ],
   "source": [
    "health_premium(1994, 'male', 'no')\n"
   ]
  },
  {
   "cell_type": "code",
   "execution_count": null,
   "id": "d1345a7a-c165-40b0-a8a7-5448e0c585ee",
   "metadata": {},
   "outputs": [],
   "source": []
  }
 ],
 "metadata": {
  "kernelspec": {
   "display_name": "Python 3 (ipykernel)",
   "language": "python",
   "name": "python3"
  },
  "language_info": {
   "codemirror_mode": {
    "name": "ipython",
    "version": 3
   },
   "file_extension": ".py",
   "mimetype": "text/x-python",
   "name": "python",
   "nbconvert_exporter": "python",
   "pygments_lexer": "ipython3",
   "version": "3.11.7"
  }
 },
 "nbformat": 4,
 "nbformat_minor": 5
}
